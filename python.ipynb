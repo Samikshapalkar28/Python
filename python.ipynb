{
  "nbformat": 4,
  "nbformat_minor": 0,
  "metadata": {
    "colab": {
      "provenance": []
    },
    "kernelspec": {
      "name": "python3",
      "display_name": "Python 3"
    },
    "language_info": {
      "name": "python"
    }
  },
  "cells": [
    {
      "cell_type": "code",
      "execution_count": 1,
      "metadata": {
        "id": "oCZiG2yRkMJX"
      },
      "outputs": [],
      "source": []
    },
    {
      "cell_type": "markdown",
      "source": [
        "1 What is Python, and why is it popular?\n",
        "\n",
        "  -> Python is a high-level, interpreted\n",
        "  programming language known for its readability and versatility. And it is popular because it is easy to learn,versatil,it has large community and extensice lirbraries it has platform independence and a strong corporate backing.\n",
        "\n",
        "\n",
        "\n"
      ],
      "metadata": {
        "id": "nWe7vsS3kOt-"
      }
    },
    {
      "cell_type": "markdown",
      "source": [
        "2 What is an interpreter in Python?\n",
        "\n",
        "   -> An interpreter in Python is the program responsible for reading, translating, and executing your Python code. It's not Python the language itself, but the engine that makes your code run.\n",
        "\n"
      ],
      "metadata": {
        "id": "hmzc2LDdlZnz"
      }
    },
    {
      "cell_type": "markdown",
      "source": [
        "3 What are pre-defined keywords in Python?\n",
        "\n",
        "-> In Python, predefined keywords also called reserved words are words built into the language syntax—used to define structure, control flow, define functions or classes, and more. These keywords cannot be used as variable names, function names, or any other identifiers in your code."
      ],
      "metadata": {
        "id": "gXx7JPP3mi53"
      }
    },
    {
      "cell_type": "markdown",
      "source": [
        "4 Can keywords be used as variable names?\n",
        "\n",
        "  -> No, you cannot use Python keywords as variable names. Doing so causes a SyntaxError, as reserved keywords are deliberately unusable as identifiers in the language.\n",
        "\n",
        "\n"
      ],
      "metadata": {
        "id": "HnpKjlxynJsx"
      }
    },
    {
      "cell_type": "markdown",
      "source": [
        "5 What is mutability in Python ?\n",
        "\n",
        "  -> Mutability describes whether a Python object's internal state can be changed without creating a new object. A mutable object can be modified in place (its contents change but its identity remains the same).An immutable object cannot be altered—any change results in a brandnew object being created.\n",
        "\n",
        "\n"
      ],
      "metadata": {
        "id": "JRR__1_1n56x"
      }
    },
    {
      "cell_type": "markdown",
      "source": [
        "6 Why are lists mutable, but tuples are immutable ?\n",
        "\n",
        "-> Python lists are mutable (designed to be modified in place), while tuples are immutable (fixed after creation). This difference is intentional and comes down to design, implementation, memory, and semantic signaling.This design philosophy helps Python remain flexible while offering expressive clarity in your code."
      ],
      "metadata": {
        "id": "TxycmQWSqKZa"
      }
    },
    {
      "cell_type": "markdown",
      "source": [
        "7 What is the difference between “==” and “is” operators in Python?\n",
        "\n",
        "-> \"==\"(equqlity operator) is use to check the equality of the object or values you can say while \"is\" (identy operator) Checks if two variables point to the same object in memory.Compares object identity, not values.Returns True only if both variables refer to the exact same object."
      ],
      "metadata": {
        "id": "x9rDaWIgraUM"
      }
    },
    {
      "cell_type": "markdown",
      "source": [
        "8 What are logical operators in Python ?\n",
        "\n",
        "  -> Logical operators in Python are used to combine conditional statements (expressions that return True or False). They help control decision-making and flow of execution in your programs.\n",
        "\n"
      ],
      "metadata": {
        "id": "-tfitOPHtULr"
      }
    },
    {
      "cell_type": "markdown",
      "source": [
        "9 What is type casting in Python ?\n",
        "\n",
        "  -> Type casting in Python means converting one data type into another. This is useful when you need to perform operations between incompatible types, like converting a string to an integer, or a float to a string.\n",
        "\n"
      ],
      "metadata": {
        "id": "FR16XCITtvzo"
      }
    },
    {
      "cell_type": "markdown",
      "source": [
        "10 What is the difference between implicit and explicit type casting ?\n",
        "\n",
        "  -> Type casting in Python means converting a value from one data type to another. There are two kinds implicit and explicit. In implicit type casting, Python automatically converts data types when it's safe for example, if you add an integer and a float, Python will convert the integer to a float without asking. This happens in the background and doesn't require any code from the programmer. On the other hand, explicit type casting is when the programmer manually changes the data type using functions like int(), float(), or str(). This gives more control but also means you need to be careful, because the conversion can fail or lose data. So, the key difference is implicit casting is done by Python automatically, while explicit casting is done by you using functions."
      ],
      "metadata": {
        "id": "JaP9VZFfuA3N"
      }
    },
    {
      "cell_type": "markdown",
      "source": [
        "11 What is the purpose of conditional statements in Python ?\n",
        "\n",
        "  -> The purpose of conditional statements in Python is to control the flow of your program based on conditions. They allow your code to make decisions and run different blocks of code depending on whether a condition is True or False. Without conditional statements, a program would always follow the same sequence of steps. With them, your program becomes dynamic and flexible.\n",
        "\n",
        "    "
      ],
      "metadata": {
        "id": "9Q1I114ivHP6"
      }
    },
    {
      "cell_type": "markdown",
      "source": [
        "12 How does the elif statement work ?\n",
        "\n",
        "  -> The elif statement stands for “else if”. It's used when you want to check multiple conditions in a row only the first one that's True will be executed, and the rest will be skipped.\n",
        "\n"
      ],
      "metadata": {
        "id": "n5Bug5sbwE6L"
      }
    },
    {
      "cell_type": "markdown",
      "source": [
        "13 What is the difference between for and while loops ?\n",
        "\n",
        "  -> In Python, for loops and while loops are both used to repeat a block of code, but they work differently. A for loop is used when you know how many times you want to repeat something. It usually loops over a sequence like a list, string, or a range of numbers. For example, you can use a for loop to print numbers from 1 to 10. On the other hand, a while loop is used when you don't know exactly how many times the code should run. It keeps looping as long as a certain condition is True. This means while loops are better for situations where the number of repetitions depends on something happening inside the loop, like user input or reaching a certain value. However, with while loops, you must be careful to change the condition inside the loop; otherwise, it can run forever. So, the main difference is: use a for loop when you're working with a known range or sequence, and use a while loop when you're waiting for a condition to change.\n"
      ],
      "metadata": {
        "id": "SgE2sJQZway5"
      }
    },
    {
      "cell_type": "markdown",
      "source": [
        "14 Describe a scenario where a while loop is more suitable than a for loop.\n",
        "\n",
        "  -> User Login Attempt. A while loop is more suitable than a for loop when you don’t know in advance how many times the loop will run such as when waiting for user input to be correct. Imagine you are creating a simple login system where the user must enter the correct password. You don’t know how many attempts the user will take, so you use a while loop to keep asking until the correct password is entered.\n",
        "  \n",
        "  Why while is better here You don’t know how many times the user will fail before getting it right.\n",
        "\n",
        "A for loop would only work if you wanted to limit attempts (like 3 tries).\n",
        "\n",
        "while continues as long as the condition is True, making it perfect for open-ended situations like :\n",
        "Repeated user input.\n",
        "Waiting for a sensor/device to respond.\n",
        "Loops that depend on real time events.\n"
      ],
      "metadata": {
        "id": "3tl55XrlxK9j"
      }
    },
    {
      "cell_type": "code",
      "source": [
        "#  Write a Python program to print \"Hello, World!\n",
        "print(\"Hello,world\")"
      ],
      "metadata": {
        "colab": {
          "base_uri": "https://localhost:8080/"
        },
        "id": "PNjuipP9zL1W",
        "outputId": "f5e2162a-a184-459f-eba0-815cc7ec0c01"
      },
      "execution_count": 2,
      "outputs": [
        {
          "output_type": "stream",
          "name": "stdout",
          "text": [
            "Hello,world\n"
          ]
        }
      ]
    },
    {
      "cell_type": "code",
      "source": [
        "# Write a Python program that displays your name and age.\n",
        "name = \"Samiksha\"\n",
        "age = 20\n",
        "\n",
        "print(\"My name is\", name)\n",
        "print(\"I am\", age, \"years old.\")\n"
      ],
      "metadata": {
        "colab": {
          "base_uri": "https://localhost:8080/"
        },
        "id": "U2ioP4aezouV",
        "outputId": "cb14f822-2943-446a-f736-5f9c26a4235c"
      },
      "execution_count": 5,
      "outputs": [
        {
          "output_type": "stream",
          "name": "stdout",
          "text": [
            "My name is Samiksha\n",
            "I am 20 years old.\n"
          ]
        }
      ]
    },
    {
      "cell_type": "code",
      "source": [
        "# Write code to print all the pre-defined keywords in Python using the keyword library\n",
        "import keyword\n",
        "\n",
        "all_keywords = keyword.kwlist\n",
        "\n",
        "print(\"Python Keywords:\")\n",
        "for kw in all_keywords:\n",
        "    print(kw)\n"
      ],
      "metadata": {
        "colab": {
          "base_uri": "https://localhost:8080/"
        },
        "id": "ib4OheCD05FA",
        "outputId": "9bb2d040-0708-4a6d-ec48-00e2b02ef4cf"
      },
      "execution_count": 6,
      "outputs": [
        {
          "output_type": "stream",
          "name": "stdout",
          "text": [
            "Python Keywords:\n",
            "False\n",
            "None\n",
            "True\n",
            "and\n",
            "as\n",
            "assert\n",
            "async\n",
            "await\n",
            "break\n",
            "class\n",
            "continue\n",
            "def\n",
            "del\n",
            "elif\n",
            "else\n",
            "except\n",
            "finally\n",
            "for\n",
            "from\n",
            "global\n",
            "if\n",
            "import\n",
            "in\n",
            "is\n",
            "lambda\n",
            "nonlocal\n",
            "not\n",
            "or\n",
            "pass\n",
            "raise\n",
            "return\n",
            "try\n",
            "while\n",
            "with\n",
            "yield\n"
          ]
        }
      ]
    },
    {
      "cell_type": "code",
      "source": [
        "# Write a program that checks if a given word is a Python keyword.\n",
        "import keyword\n",
        "\n",
        "word = input(\"Enter a word to check: \")\n",
        "\n",
        "if keyword.iskeyword(word):\n",
        "    print(f\"'{word}' is a Python keyword.\")\n",
        "else:\n",
        "    print(f\"'{word}' is NOT a Python keyword.\")\n"
      ],
      "metadata": {
        "colab": {
          "base_uri": "https://localhost:8080/"
        },
        "id": "lWMnOWOh1VP0",
        "outputId": "5ca8d883-eee7-4fb9-a6be-85fe4b2871f2"
      },
      "execution_count": 8,
      "outputs": [
        {
          "output_type": "stream",
          "name": "stdout",
          "text": [
            "Enter a word to check: def\n",
            "'def' is a Python keyword.\n"
          ]
        }
      ]
    },
    {
      "cell_type": "code",
      "source": [
        "#  Create a list and tuple in Python, and demonstrate how attempting to change an element works differently for each.\n",
        "\n",
        "my_list = [10, 20, 30]\n",
        "my_tuple = (10, 20, 30)\n",
        "\n",
        "print(\"Original list:\", my_list)\n",
        "my_list[1] = 99   # Lists are mutable\n",
        "print(\"Modified list:\", my_list)\n",
        "\n",
        "print(\"\\nOriginal tuple:\", my_tuple)\n",
        "try:\n",
        "    my_tuple[1] = 99   # Tuples are immutable – this will raise an error\n",
        "except TypeError as e:\n",
        "    print(\"Error while modifying tuple:\", e)\n"
      ],
      "metadata": {
        "colab": {
          "base_uri": "https://localhost:8080/"
        },
        "id": "U0JY-v3u13_o",
        "outputId": "e40a1bab-1859-4f79-8a48-29149a6655e4"
      },
      "execution_count": 9,
      "outputs": [
        {
          "output_type": "stream",
          "name": "stdout",
          "text": [
            "Original list: [10, 20, 30]\n",
            "Modified list: [10, 99, 30]\n",
            "\n",
            "Original tuple: (10, 20, 30)\n",
            "Error while modifying tuple: 'tuple' object does not support item assignment\n"
          ]
        }
      ]
    },
    {
      "cell_type": "code",
      "source": [
        "# Write a function to demonstrate the behavior of mutable and immutable arguments.\n",
        "def modify_arguments(immutable_arg, mutable_arg):\n",
        "\n",
        "    immutable_arg += 10\n",
        "\n",
        "\n",
        "    mutable_arg.append(100)\n",
        "\n",
        "    print(\"\\nInside function:\")\n",
        "    print(\"Immutable argument:\", immutable_arg)\n",
        "    print(\"Mutable argument:\", mutable_arg)\n",
        "\n",
        "# Immutable data type (int)\n",
        "x = 50\n",
        "\n",
        "# Mutable data type (list)\n",
        "y = [1, 2, 3]\n",
        "\n",
        "print(\"Before function call:\")\n",
        "print(\"x =\", x)\n",
        "print(\"y =\", y)\n",
        "\n",
        "# Call the function\n",
        "modify_arguments(x, y)\n",
        "\n",
        "print(\"\\nAfter function call:\")\n",
        "print(\"x =\", x)  # unchanged\n",
        "print(\"y =\", y)  # changed\n",
        "\n"
      ],
      "metadata": {
        "colab": {
          "base_uri": "https://localhost:8080/"
        },
        "id": "_P1UTfCq2p5z",
        "outputId": "95caff74-624c-4f10-e52f-70881e2082c6"
      },
      "execution_count": 10,
      "outputs": [
        {
          "output_type": "stream",
          "name": "stdout",
          "text": [
            "Before function call:\n",
            "x = 50\n",
            "y = [1, 2, 3]\n",
            "\n",
            "Inside function:\n",
            "Immutable argument: 60\n",
            "Mutable argument: [1, 2, 3, 100]\n",
            "\n",
            "After function call:\n",
            "x = 50\n",
            "y = [1, 2, 3, 100]\n"
          ]
        }
      ]
    },
    {
      "cell_type": "code",
      "source": [
        "#  Write a program that performs basic arithmetic operations on two user-input numbers.\n",
        "\n",
        "num1 = float(input(\"Enter the first number: \"))\n",
        "num2 = float(input(\"Enter the second number: \"))\n",
        "\n",
        "addition = num1 + num2\n",
        "subtraction = num1 - num2\n",
        "multiplication = num1 * num2\n",
        "\n",
        "# Check for division by zero\n",
        "if num2 != 0:\n",
        "    division = num1 / num2\n",
        "else:\n",
        "    division = \"Undefined (division by zero)\"\n",
        "\n",
        "print(\"\\nResults:\")\n",
        "print(\"Addition:\", addition)\n",
        "print(\"Subtraction:\", subtraction)\n",
        "print(\"Multiplication:\", multiplication)\n",
        "print(\"Division:\", division)\n"
      ],
      "metadata": {
        "colab": {
          "base_uri": "https://localhost:8080/"
        },
        "id": "fRpX-lCF3h07",
        "outputId": "50ea186d-255b-43cc-a936-09c6c99d2c42"
      },
      "execution_count": 11,
      "outputs": [
        {
          "output_type": "stream",
          "name": "stdout",
          "text": [
            "Enter the first number: 45\n",
            "Enter the second number: 34\n",
            "\n",
            "Results:\n",
            "Addition: 79.0\n",
            "Subtraction: 11.0\n",
            "Multiplication: 1530.0\n",
            "Division: 1.3235294117647058\n"
          ]
        }
      ]
    },
    {
      "cell_type": "code",
      "source": [
        "# Write a program to demonstrate the use of logical operators.0\n",
        "num1 = int(input(\"Enter first number: \"))\n",
        "num2 = int(input(\"Enter second number: \"))\n",
        "\n",
        "# Logical operator: and\n",
        "if num1 > 0 and num2 > 0:\n",
        "    print(\"Both numbers are positive.\")\n",
        "\n",
        "# Logical operator: or\n",
        "if num1 > 0 or num2 > 0:\n",
        "    print(\"At least one number is positive.\")\n",
        "\n",
        "# Logical operator: not\n",
        "if not (num1 < 0 or num2 < 0):\n",
        "    print(\"None of the numbers are negative.\")\n",
        "else:\n",
        "    print(\"At least one number is negative.\")\n"
      ],
      "metadata": {
        "colab": {
          "base_uri": "https://localhost:8080/"
        },
        "id": "slFXw_Bz_UyD",
        "outputId": "c46156d2-0ab7-4009-f980-d367c96c1a2d"
      },
      "execution_count": 12,
      "outputs": [
        {
          "output_type": "stream",
          "name": "stdout",
          "text": [
            "Enter first number: 5\n",
            "Enter second number: 8\n",
            "Both numbers are positive.\n",
            "At least one number is positive.\n",
            "None of the numbers are negative.\n"
          ]
        }
      ]
    },
    {
      "cell_type": "code",
      "source": [
        "# Write a Python program to convert user input from string to integer, float, and boolean types.\n",
        "\n",
        "user_input = input(\"Enter a value: \")\n",
        "\n",
        "\n",
        "try:\n",
        "    int_value = int(user_input)\n",
        "    print(\"Integer value:\", int_value)\n",
        "except ValueError:\n",
        "    print(\"Cannot convert to integer.\")\n",
        "\n",
        "\n",
        "try:\n",
        "    float_value = float(user_input)\n",
        "    print(\"Float value:\", float_value)\n",
        "except ValueError:\n",
        "    print(\"Cannot convert to float.\")\n",
        "\n",
        "# Convert to boolean\n",
        "# Empty strings are False, non-empty strings are True\n",
        "bool_value = bool(user_input)\n",
        "print(\"Boolean value:\", bool_value)\n"
      ],
      "metadata": {
        "colab": {
          "base_uri": "https://localhost:8080/"
        },
        "id": "JZMYhkIs__97",
        "outputId": "54d8c23c-1310-4c48-d664-ccbe618df4cf"
      },
      "execution_count": 13,
      "outputs": [
        {
          "output_type": "stream",
          "name": "stdout",
          "text": [
            "Enter a value: 45\n",
            "Integer value: 45\n",
            "Float value: 45.0\n",
            "Boolean value: True\n"
          ]
        }
      ]
    },
    {
      "cell_type": "code",
      "source": [
        "# Write code to demonstrate type casting with list elements\n",
        "\n",
        "str_list = ['10', '20', '30', '40']\n",
        "\n",
        "int_list = [int(item) for item in str_list]\n",
        "print(\"List of integers:\", int_list)\n",
        "\n",
        "float_list = [float(item) for item in int_list]\n",
        "print(\"List of floats:\", float_list)\n",
        "\n",
        "# Convert floats to strings again\n",
        "str_again = [str(item) for item in float_list]\n",
        "print(\"List of strings again:\", str_again)\n",
        "\n",
        "# Convert integer list to boolean (non-zero = True)\n",
        "bool_list = [bool(item) for item in int_list]\n",
        "print(\"List of booleans:\", bool_list)\n"
      ],
      "metadata": {
        "colab": {
          "base_uri": "https://localhost:8080/"
        },
        "id": "mU_gW8-KAkEN",
        "outputId": "ca4e13f7-0e43-4679-bf95-56710496dec7"
      },
      "execution_count": 14,
      "outputs": [
        {
          "output_type": "stream",
          "name": "stdout",
          "text": [
            "List of integers: [10, 20, 30, 40]\n",
            "List of floats: [10.0, 20.0, 30.0, 40.0]\n",
            "List of strings again: ['10.0', '20.0', '30.0', '40.0']\n",
            "List of booleans: [True, True, True, True]\n"
          ]
        }
      ]
    },
    {
      "cell_type": "code",
      "source": [
        "# Write a program that checks if a number is positive, negative, or zero.\n",
        "\n",
        "num = float(input(\"Enter a number: \"))\n",
        "\n",
        "if num > 0:\n",
        "    print(\"The number is positive.\")\n",
        "elif num < 0:\n",
        "    print(\"The number is negative.\")\n",
        "else:\n",
        "    print(\"The number is zero.\")\n"
      ],
      "metadata": {
        "colab": {
          "base_uri": "https://localhost:8080/"
        },
        "id": "Qr9KhZOKBLXt",
        "outputId": "ddcd9591-eb31-4f09-97b3-57e9684bc6d9"
      },
      "execution_count": 15,
      "outputs": [
        {
          "output_type": "stream",
          "name": "stdout",
          "text": [
            "Enter a number: -8\n",
            "The number is negative.\n"
          ]
        }
      ]
    },
    {
      "cell_type": "code",
      "source": [
        "# Write a for loop to print numbers from 1 to 10\n",
        "\n",
        "for i in range(1,11):\n",
        "  print(i)"
      ],
      "metadata": {
        "colab": {
          "base_uri": "https://localhost:8080/"
        },
        "id": "DeKyBirYBtCc",
        "outputId": "38d29ce0-563a-4b36-eb31-ac5be678cc3d"
      },
      "execution_count": 16,
      "outputs": [
        {
          "output_type": "stream",
          "name": "stdout",
          "text": [
            "1\n",
            "2\n",
            "3\n",
            "4\n",
            "5\n",
            "6\n",
            "7\n",
            "8\n",
            "9\n",
            "10\n"
          ]
        }
      ]
    },
    {
      "cell_type": "code",
      "source": [
        "# Write a Python program to find the sum of all even numbers between 1 and 50.\n",
        "\n",
        "even_sum = 0\n",
        "for num in range(1, 51):\n",
        "    if num % 2 == 0:\n",
        "        even_sum += num\n",
        "\n",
        "print(\"Sum of even numbers from 1 to 50 is:\", even_sum)\n",
        "\n",
        "\n",
        "\n",
        "print(\"Even numbers from 1 to 50:\")\n",
        "\n",
        "for num in range(1, 51):\n",
        "    if num % 2 == 0:\n",
        "        print(num, end=\" \")\n"
      ],
      "metadata": {
        "colab": {
          "base_uri": "https://localhost:8080/"
        },
        "id": "A2mbH6nVCAim",
        "outputId": "70c72f8d-bde2-4e9b-9d68-21e807492865"
      },
      "execution_count": 18,
      "outputs": [
        {
          "output_type": "stream",
          "name": "stdout",
          "text": [
            "Sum of even numbers from 1 to 50 is: 650\n",
            "Even numbers from 1 to 50:\n",
            "2 4 6 8 10 12 14 16 18 20 22 24 26 28 30 32 34 36 38 40 42 44 46 48 50 "
          ]
        }
      ]
    },
    {
      "cell_type": "code",
      "source": [
        "# Write a program to reverse a string using a while loop.\n",
        "\n",
        "text = input(\"Enter a string: \")\n",
        "\n",
        "reversed_text = \"\"\n",
        "index = len(text) - 1\n",
        "\n",
        "while index >= 0:\n",
        "    reversed_text += text[index]\n",
        "    index -= 1\n",
        "\n",
        "print(\"Reversed string:\", reversed_text)\n"
      ],
      "metadata": {
        "colab": {
          "base_uri": "https://localhost:8080/"
        },
        "id": "XY5aqy8lCslP",
        "outputId": "61cdda72-ed6f-4279-8f28-be02dd6db806"
      },
      "execution_count": 19,
      "outputs": [
        {
          "output_type": "stream",
          "name": "stdout",
          "text": [
            "Enter a string: samiksha\n",
            "Reversed string: ahskimas\n"
          ]
        }
      ]
    },
    {
      "cell_type": "code",
      "source": [
        "# Write a Python program to calculate the factorial of a number provided by the user using a while loop.\n",
        "num = int(input(\"Enter a number to find its factorial: \"))\n",
        "\n",
        "factorial = 1\n",
        "i = 1\n",
        "\n",
        "# Check for non-negative\n",
        "if num < 0:\n",
        "    print(\"Factorial is not defined for negative numbers.\")\n",
        "else:\n",
        "    while i <= num:\n",
        "        factorial *= i\n",
        "        i += 1\n",
        "    print(f\"Factorial of {num} is: {factorial}\")\n"
      ],
      "metadata": {
        "colab": {
          "base_uri": "https://localhost:8080/"
        },
        "id": "v8bwtcnWDAQv",
        "outputId": "b8c662b7-2ccb-472f-9a36-ef87b6c6e734"
      },
      "execution_count": 20,
      "outputs": [
        {
          "output_type": "stream",
          "name": "stdout",
          "text": [
            "Enter a number to find its factorial: 5\n",
            "Factorial of 5 is: 120\n"
          ]
        }
      ]
    }
  ]
}